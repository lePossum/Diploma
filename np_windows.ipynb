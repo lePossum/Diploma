{
 "cells": [
  {
   "cell_type": "code",
   "execution_count": 16,
   "metadata": {},
   "outputs": [],
   "source": [
    "# import tensorflow.compat.v1 as tf\n",
    "# from tensorflow.compat.v1 import keras\n",
    "from os import listdir\n",
    "import matplotlib.pyplot as plt\n",
    "from matplotlib.pyplot import imread, imsave, imshow\n",
    "import numpy as np\n",
    "import pandas as pd\n",
    "import math\n",
    "from scipy.signal import convolve2d\n",
    "from skimage import img_as_ubyte, img_as_float\n",
    "from skimage.transform import resize\n",
    "# from keras.preprocessing.image import ImageDataGenerator\n",
    "from sklearn.model_selection import train_test_split\n",
    "# from keras import Sequential\n",
    "# from keras import layers\n",
    "import copy\n",
    "from skimage.color import rgb2gray\n",
    "from sklearn.metrics import mean_squared_error as MSE\n",
    "import gc\n",
    "import os.path\n",
    "gc.enable()\n",
    "\n",
    "# tf.keras.backend.clear_session()  # For easy reset of notebook state.\n",
    "# sess = tf.Session() \n",
    "# keras.backend.set_session(sess)\n",
    "\n",
    "\n",
    "def make_ker(ker_len, ker_angle):\n",
    "#     h = ker_len * 2\n",
    "    h = ker_len\n",
    "    ker_len = ker_len // 2\n",
    "    ker = np.zeros((h, h), dtype='float')\n",
    "    k = -math.tan(ker_angle)\n",
    "    b = (1 - k) * ker_len\n",
    "    if abs(abs(ker_angle * 180/math.pi) - 90) > 10:\n",
    "        for x in range(h):\n",
    "            y = round(k * x + b)\n",
    "            y = int((y if y >= 0 else 0) if y <= h-1 else h-1)\n",
    "            if (y == 0 or y == h - 1):\n",
    "                continue\n",
    "            ker[y, x] = 1\n",
    "    else:\n",
    "        for y in range(h):\n",
    "            ker[y, ker_len] = 1 \n",
    "    ret_value = ker/ker.sum()\n",
    "    if np.isnan(np.sum(ret_value)):\n",
    "        return []\n",
    "    else:\n",
    "        return ret_value"
   ]
  },
  {
   "cell_type": "code",
   "execution_count": 17,
   "metadata": {},
   "outputs": [],
   "source": [
    "import torch"
   ]
  },
  {
   "cell_type": "code",
   "execution_count": 18,
   "metadata": {},
   "outputs": [],
   "source": [
    "# from tensorflow.python.client import device_lib\n",
    "\n",
    "# def get_available_gpus():\n",
    "#     local_device_protos = device_lib.list_local_devices()\n",
    "#     return [x.name for x in local_device_protos if x.device_type == 'GPU']\n",
    "# get_available_gpus()"
   ]
  },
  {
   "cell_type": "code",
   "execution_count": 19,
   "metadata": {},
   "outputs": [],
   "source": [
    "import random\n",
    "from skimage.transform import SimilarityTransform\n",
    "from skimage.transform import warp\n",
    "from skimage.util import random_noise\n",
    "\n",
    "IMG_SIZE = 200\n",
    "BLUR_LEN = 5\n",
    "# IMG_SIZE = None\n",
    "# OUT_SIZE = 600\n",
    "BATCH_SIZE = 8\n",
    "EPS = 10e-7\n",
    "\n",
    "def rotate_transform_matrix(transform):\n",
    "    \"\"\"Rotate matrix so it can be applied to row:col coordinates.\"\"\"\n",
    "    matrix = transform.params[(1, 0, 2), :][:, (1, 0, 2)]\n",
    "    return type(transform)(matrix)\n",
    "\n",
    "def prepare_img(img):\n",
    "    image = copy.copy(img)\n",
    "    if len(image.shape) == 2:\n",
    "        image = np.stack((image, image, image))\n",
    "        image = np.transpose(image, axes=(1,2, 0))\n",
    "    for channel in range(3):\n",
    "        image[:,:,channel] = (image[:,:,channel] - np.mean(image[:,:,channel])) / (np.std(image[:,:,channel]) + EPS)\n",
    "    if (image.shape[2] == 4):\n",
    "        image = image[:,:,:3]\n",
    "    h, w = image.shape[:2]\n",
    "    return image\n",
    "\n",
    "def prepare_img1(img):\n",
    "    image = copy.copy(img)\n",
    "    if len(image.shape) == 2:\n",
    "        image = np.stack((image, image, image))\n",
    "        image = np.transpose(image, axes=(1,2, 0))\n",
    "    if (image.shape[2] == 4):\n",
    "        image = image[:,:,:3]\n",
    "    return img_as_float(image)\n",
    "\n",
    "# train_generator = ImageDataGenerator(horizontal_flip=True, width_shift_range=0.1)\n",
    "# train_generator.fit(X, augment=True, seed=42)\n"
   ]
  },
  {
   "cell_type": "code",
   "execution_count": 20,
   "metadata": {},
   "outputs": [],
   "source": [
    "import random"
   ]
  },
  {
   "cell_type": "code",
   "execution_count": 21,
   "metadata": {},
   "outputs": [],
   "source": [
    "IMG_SIZE = 600\n",
    "BLUR_LEN = 10\n",
    "KER = make_ker(BLUR_LEN, 0)\n",
    "global_idx = 0\n",
    "\n",
    "def generate_pics(paths, amount_on_picture, break_on = 0):\n",
    "    global global_idx\n",
    "    for p in paths:\n",
    "        try:\n",
    "            cur_img = prepare_img1(imread(p))\n",
    "            blurred = convolve_img(cur_img)\n",
    "            noised = random_noise(blurred, var=0.001)\n",
    "            h, w = cur_img.shape[:2]\n",
    "            if (h > IMG_SIZE and w > IMG_SIZE):\n",
    "                for idx in range(amount_on_picture):\n",
    "                    y = random.randrange(h - IMG_SIZE)\n",
    "                    x = random.randrange(w - IMG_SIZE)\n",
    "                    plt.imsave('pict/random_la/bn/img_' + str(global_idx) + '.png', noised[y : y + IMG_SIZE, x : x + IMG_SIZE])\n",
    "                    plt.imsave('pict/random_la/sn/img_' + str(global_idx) + '.png', cur_img[y : y + IMG_SIZE, x : x + IMG_SIZE])\n",
    "                    global_idx += 1\n",
    "            if (break_on != 0):\n",
    "                if (break_on == global_idx):\n",
    "                    return\n",
    "        except:\n",
    "            pass\n",
    "\n",
    "def generate_pics_from_two(paths_X, paths_y, amount_on_picture):\n",
    "    global_idx = 0\n",
    "    for p in range(len(paths_X)):\n",
    "        blurred = prepare_img1(imread(paths_X[p]))\n",
    "        cur_img = prepare_img1(imread(paths_y[p]))\n",
    "        h, w = cur_img.shape[:2]\n",
    "        for idx in range(amount_on_picture):\n",
    "            y = random.randrange(h - IMG_SIZE)\n",
    "            x = random.randrange(w - IMG_SIZE)\n",
    "            plt.imsave('pict/b_test/test_' + str(global_idx) + '.png', blurred[y : y + IMG_SIZE, x : x + IMG_SIZE])\n",
    "            plt.imsave('pict/s_test/test_' + str(global_idx) + '.png', cur_img[y : y + IMG_SIZE, x : x + IMG_SIZE])\n",
    "            global_idx += 1\n",
    "    return\n",
    "\n",
    "def convolve_img(image):\n",
    "    # ker = KER\n",
    "        ker = make_ker(random.randint(2, 15), random.uniform(0, np.pi))\n",
    "        ker_len = BLUR_LEN\n",
    "        pad = ker_len // 2\n",
    "        img = image\n",
    "        if len(img.shape) == 2:\n",
    "            img = np.stack((image, image, image))\n",
    "            img = np.transpose(image, axes=(1,2, 0))\n",
    "        # for channel in range(3):\n",
    "            # image[:,:,channel] = (image[:,:,channel] - np.mean(image[:,:,channel])) / (np.std(image[:,:,channel]) + EPS)\n",
    "        r = convolve2d(np.pad(img[:,:,0], pad, 'edge'), ker, mode='valid'); #r /= r.max()\n",
    "        g = convolve2d(np.pad(img[:,:,1], pad, 'edge'), ker, mode='valid'); #g /= g.max()\n",
    "        b = convolve2d(np.pad(img[:,:,2], pad, 'edge'), ker, mode='valid'); #b /= b.max()\n",
    "        image = np.stack((r, g, b))\n",
    "        image = np.clip(image, 0., 1.)\n",
    "        image = np.transpose(image, axes=(1,2, 0))\n",
    "        return image\n",
    "        print(ker)"
   ]
  },
  {
   "cell_type": "code",
   "execution_count": 22,
   "metadata": {},
   "outputs": [],
   "source": [
    "# generate_pics_from_two(X, y, 1)\n",
    "# generate_pics(y, 1, break_on=300)"
   ]
  },
  {
   "cell_type": "code",
   "execution_count": 23,
   "metadata": {},
   "outputs": [
    {
     "output_type": "stream",
     "name": "stdout",
     "text": [
      "Wall time: 80 ms\n"
     ]
    }
   ],
   "source": [
    "%%time\n",
    "train_dir = '../course/motion_blurred/'\n",
    "# train_dir = 'b/'\n",
    "y_dir = 'pict/google_initial/'\n",
    "# y_dir = 'pict/s_/'\n",
    "# y_dir = 's/'\n",
    "fnames_X = listdir(train_dir)\n",
    "fnames_y = listdir(y_dir)\n",
    "\n",
    "X = list([train_dir + item for item in fnames_X])\n",
    "y = list([y_dir + item for item in fnames_y])"
   ]
  },
  {
   "cell_type": "code",
   "execution_count": 24,
   "metadata": {},
   "outputs": [],
   "source": [
    "from sklearn.metrics import mean_squared_error as MSE\n",
    "from skimage.metrics import structural_similarity as SSIM\n",
    "from skimage.metrics import peak_signal_noise_ratio as PSNR\n",
    "\n",
    "def calc_metrics(predicted_dir, target_dir, list_len = None):\n",
    "    pred_files = listdir(predicted_dir)\n",
    "    targ_files = listdir(target_dir)\n",
    "    if (not list_len is None):\n",
    "        pred_files = pred_files[:list_len]\n",
    "    l = len(pred_files)\n",
    "    metrics = dict()\n",
    "    metrics['PSNR'] = 0\n",
    "    metrics['SSIM'] = 0\n",
    "    for idx in range(len(pred_files)):\n",
    "        print(pred_files[idx])\n",
    "        p = prepare_img1(imread(os.path.join(predicted_dir, pred_files[idx])))\n",
    "        if (pred_files[idx] in targ_files):\n",
    "            t = prepare_img1(imread(os.path.join(target_dir, pred_files[idx])))\n",
    "        try:\n",
    "            metrics['PSNR'] += PSNR(t,p)\n",
    "            metrics['SSIM'] += SSIM(t,p, multichannel=True)\n",
    "        except:\n",
    "            l -= 1\n",
    "\n",
    "    metrics['PSNR'] /= l\n",
    "    metrics['SSIM'] /= l\n",
    "    return metrics\n"
   ]
  },
  {
   "cell_type": "code",
   "execution_count": 28,
   "metadata": {},
   "outputs": [],
   "source": [
    "m0 = calc_metrics('pict/bn_val', 'pict/sn_val')"
   ]
  },
  {
   "cell_type": "code",
   "execution_count": 9,
   "metadata": {},
   "outputs": [],
   "source": [
    "m1 = calc_metrics('pict/sn_val', 'result/bn_val_orig')"
   ]
  },
  {
   "cell_type": "code",
   "execution_count": 10,
   "metadata": {},
   "outputs": [],
   "source": [
    "m2 = calc_metrics('pict/sn_val', 'result/bn_val_6')"
   ]
  },
  {
   "cell_type": "code",
   "execution_count": 11,
   "metadata": {},
   "outputs": [],
   "source": [
    "m3 = calc_metrics('pict/sn_val', 'result/bn_val_20')"
   ]
  },
  {
   "cell_type": "code",
   "execution_count": 31,
   "metadata": {},
   "outputs": [],
   "source": [
    "m4 = calc_metrics('pict/sn_val', 'pict/predicted_val')"
   ]
  },
  {
   "cell_type": "code",
   "execution_count": 33,
   "metadata": {},
   "outputs": [],
   "source": [
    "m5 = calc_metrics('pict/sn_val', 'pict/predicted_val1')"
   ]
  },
  {
   "cell_type": "code",
   "execution_count": 30,
   "metadata": {},
   "outputs": [
    {
     "output_type": "stream",
     "name": "stdout",
     "text": [
      "Метрики на датасете:\nСравнение размытых изображений с изначальными:\n  {'PSNR': 23.425286662747613, 'SSIM': 0.6817486902035588}\nВосстановленные Inception без дообучения:\n"
     ]
    },
    {
     "output_type": "error",
     "ename": "NameError",
     "evalue": "name 'm1' is not defined",
     "traceback": [
      "\u001b[1;31m---------------------------------------------------------------------------\u001b[0m",
      "\u001b[1;31mNameError\u001b[0m                                 Traceback (most recent call last)",
      "\u001b[1;32m<ipython-input-30-e194a93fdc95>\u001b[0m in \u001b[0;36m<module>\u001b[1;34m\u001b[0m\n\u001b[0;32m      3\u001b[0m \u001b[0mprint\u001b[0m\u001b[1;33m(\u001b[0m\u001b[1;34m'  '\u001b[0m \u001b[1;33m+\u001b[0m \u001b[0mstr\u001b[0m\u001b[1;33m(\u001b[0m\u001b[0mm0\u001b[0m\u001b[1;33m)\u001b[0m\u001b[1;33m)\u001b[0m\u001b[1;33m\u001b[0m\u001b[1;33m\u001b[0m\u001b[0m\n\u001b[0;32m      4\u001b[0m \u001b[0mprint\u001b[0m\u001b[1;33m(\u001b[0m\u001b[1;34m'Восстановленные Inception без дообучения:'\u001b[0m\u001b[1;33m)\u001b[0m\u001b[1;33m\u001b[0m\u001b[1;33m\u001b[0m\u001b[0m\n\u001b[1;32m----> 5\u001b[1;33m \u001b[0mprint\u001b[0m\u001b[1;33m(\u001b[0m\u001b[1;34m'  '\u001b[0m \u001b[1;33m+\u001b[0m \u001b[0mstr\u001b[0m\u001b[1;33m(\u001b[0m\u001b[0mm1\u001b[0m\u001b[1;33m)\u001b[0m\u001b[1;33m)\u001b[0m\u001b[1;33m\u001b[0m\u001b[1;33m\u001b[0m\u001b[0m\n\u001b[0m\u001b[0;32m      6\u001b[0m \u001b[0mprint\u001b[0m\u001b[1;33m(\u001b[0m\u001b[1;34m'Восстановленное Inception после дообучения (6 эпох):'\u001b[0m\u001b[1;33m)\u001b[0m\u001b[1;33m\u001b[0m\u001b[1;33m\u001b[0m\u001b[0m\n\u001b[0;32m      7\u001b[0m \u001b[0mprint\u001b[0m\u001b[1;33m(\u001b[0m\u001b[1;34m'  '\u001b[0m \u001b[1;33m+\u001b[0m \u001b[0mstr\u001b[0m\u001b[1;33m(\u001b[0m\u001b[0mm2\u001b[0m\u001b[1;33m)\u001b[0m\u001b[1;33m)\u001b[0m\u001b[1;33m\u001b[0m\u001b[1;33m\u001b[0m\u001b[0m\n",
      "\u001b[1;31mNameError\u001b[0m: name 'm1' is not defined"
     ]
    }
   ],
   "source": [
    "print('Метрики на датасете:')\n",
    "print('Сравнение размытых изображений с изначальными:')\n",
    "print('  ' + str(m0))\n",
    "print('Восстановленные Inception без дообучения:')\n",
    "print('  ' + str(m1))\n",
    "print('Восстановленное Inception после дообучения (6 эпох):')\n",
    "print('  ' + str(m2))\n",
    "print('Восстановленное Inception после дообучения (20 эпох):')\n",
    "print('  ' + str(m3))"
   ]
  },
  {
   "cell_type": "code",
   "execution_count": 17,
   "metadata": {},
   "outputs": [],
   "source": [
    "dirs = os.listdir('pict/random_la')\n",
    "dirs.remove('bn')#, 'predicted', 'sn'])\n",
    "dirs.remove('predicted')\n",
    "dirs.remove('sn')"
   ]
  },
  {
   "cell_type": "code",
   "execution_count": 18,
   "metadata": {},
   "outputs": [
    {
     "output_type": "execute_result",
     "data": {
      "text/plain": [
       "['deconv[0.001, 0.1, 0.001, 0.1]',\n",
       " 'deconv[0.001, 0.1, 0.1, 0.001]',\n",
       " 'deconv[0.1, 0.0001, 1, 1]',\n",
       " 'deconv[0.1, 0.001, 0.001, 0.1]',\n",
       " 'deconv[0.1, 0.001, 0.1, 0.001]',\n",
       " 'deconv_001_01_1_1']"
      ]
     },
     "metadata": {},
     "execution_count": 18
    }
   ],
   "source": [
    "dirs"
   ]
  },
  {
   "cell_type": "code",
   "execution_count": 10,
   "metadata": {},
   "outputs": [
    {
     "output_type": "stream",
     "name": "stdout",
     "text": [
      "ok\n",
      "ok\n",
      "ok\n",
      "ok\n",
      "ok\n",
      "ok\n",
      "ok\n",
      "ok\n",
      "ok\n",
      "ok\n",
      "ok\n",
      "ok\n",
      "ok\n",
      "ok\n",
      "ok\n",
      "ok\n",
      "ok\n",
      "ok\n",
      "ok\n",
      "ok\n",
      "ok\n",
      "ok\n",
      "ok\n",
      "ok\n",
      "ok\n",
      "ok\n",
      "ok\n",
      "ok\n",
      "ok\n",
      "ok\n"
     ]
    }
   ],
   "source": [
    "base_metrics = calc_metrics('pict/random_la/bn', 'pict/random_la/sn', 30)"
   ]
  },
  {
   "cell_type": "code",
   "execution_count": 11,
   "metadata": {},
   "outputs": [
    {
     "output_type": "stream",
     "name": "stdout",
     "text": [
      "{'PSNR': 21.861982620367282, 'SSIM': 0.6236894717602322}\n"
     ]
    }
   ],
   "source": [
    "print(base_metrics)"
   ]
  },
  {
   "cell_type": "code",
   "execution_count": 28,
   "metadata": {},
   "outputs": [
    {
     "output_type": "error",
     "ename": "ValueError",
     "evalue": "Input images must have the same dimensions.",
     "traceback": [
      "\u001b[1;31m---------------------------------------------------------------------------\u001b[0m",
      "\u001b[1;31mValueError\u001b[0m                                Traceback (most recent call last)",
      "\u001b[1;32m<timed exec>\u001b[0m in \u001b[0;36m<module>\u001b[1;34m\u001b[0m\n",
      "\u001b[1;32m<ipython-input-25-d0be6aa897fb>\u001b[0m in \u001b[0;36mcalc_metrics\u001b[1;34m(predicted_dir, target_dir, l)\u001b[0m\n\u001b[0;32m     17\u001b[0m         \u001b[1;32mif\u001b[0m \u001b[1;33m(\u001b[0m\u001b[0mpred_files\u001b[0m\u001b[1;33m[\u001b[0m\u001b[0midx\u001b[0m\u001b[1;33m]\u001b[0m \u001b[1;32min\u001b[0m \u001b[0mtarg_files\u001b[0m\u001b[1;33m)\u001b[0m\u001b[1;33m:\u001b[0m\u001b[1;33m\u001b[0m\u001b[1;33m\u001b[0m\u001b[0m\n\u001b[0;32m     18\u001b[0m             \u001b[0mt\u001b[0m \u001b[1;33m=\u001b[0m \u001b[0mprepare_img1\u001b[0m\u001b[1;33m(\u001b[0m\u001b[0mimread\u001b[0m\u001b[1;33m(\u001b[0m\u001b[0mos\u001b[0m\u001b[1;33m.\u001b[0m\u001b[0mpath\u001b[0m\u001b[1;33m.\u001b[0m\u001b[0mjoin\u001b[0m\u001b[1;33m(\u001b[0m\u001b[0mtarget_dir\u001b[0m\u001b[1;33m,\u001b[0m \u001b[0mpred_files\u001b[0m\u001b[1;33m[\u001b[0m\u001b[0midx\u001b[0m\u001b[1;33m]\u001b[0m\u001b[1;33m)\u001b[0m\u001b[1;33m)\u001b[0m\u001b[1;33m)\u001b[0m\u001b[1;33m\u001b[0m\u001b[1;33m\u001b[0m\u001b[0m\n\u001b[1;32m---> 19\u001b[1;33m         \u001b[0mmetrics\u001b[0m\u001b[1;33m[\u001b[0m\u001b[1;34m'PSNR'\u001b[0m\u001b[1;33m]\u001b[0m \u001b[1;33m+=\u001b[0m \u001b[0mPSNR\u001b[0m\u001b[1;33m(\u001b[0m\u001b[0mt\u001b[0m\u001b[1;33m,\u001b[0m\u001b[0mp\u001b[0m\u001b[1;33m)\u001b[0m\u001b[1;33m\u001b[0m\u001b[1;33m\u001b[0m\u001b[0m\n\u001b[0m\u001b[0;32m     20\u001b[0m         \u001b[0mmetrics\u001b[0m\u001b[1;33m[\u001b[0m\u001b[1;34m'SSIM'\u001b[0m\u001b[1;33m]\u001b[0m \u001b[1;33m+=\u001b[0m \u001b[0mSSIM\u001b[0m\u001b[1;33m(\u001b[0m\u001b[0mt\u001b[0m\u001b[1;33m,\u001b[0m\u001b[0mp\u001b[0m\u001b[1;33m,\u001b[0m \u001b[0mmultichannel\u001b[0m\u001b[1;33m=\u001b[0m\u001b[1;32mTrue\u001b[0m\u001b[1;33m)\u001b[0m\u001b[1;33m\u001b[0m\u001b[1;33m\u001b[0m\u001b[0m\n\u001b[0;32m     21\u001b[0m \u001b[1;33m\u001b[0m\u001b[0m\n",
      "\u001b[1;32m~\\anaconda3\\lib\\site-packages\\skimage\\metrics\\simple_metrics.py\u001b[0m in \u001b[0;36mpeak_signal_noise_ratio\u001b[1;34m(image_true, image_test, data_range)\u001b[0m\n\u001b[0;32m    137\u001b[0m \u001b[1;33m\u001b[0m\u001b[0m\n\u001b[0;32m    138\u001b[0m     \"\"\"\n\u001b[1;32m--> 139\u001b[1;33m     \u001b[0mcheck_shape_equality\u001b[0m\u001b[1;33m(\u001b[0m\u001b[0mimage_true\u001b[0m\u001b[1;33m,\u001b[0m \u001b[0mimage_test\u001b[0m\u001b[1;33m)\u001b[0m\u001b[1;33m\u001b[0m\u001b[1;33m\u001b[0m\u001b[0m\n\u001b[0m\u001b[0;32m    140\u001b[0m \u001b[1;33m\u001b[0m\u001b[0m\n\u001b[0;32m    141\u001b[0m     \u001b[1;32mif\u001b[0m \u001b[0mdata_range\u001b[0m \u001b[1;32mis\u001b[0m \u001b[1;32mNone\u001b[0m\u001b[1;33m:\u001b[0m\u001b[1;33m\u001b[0m\u001b[1;33m\u001b[0m\u001b[0m\n",
      "\u001b[1;32m~\\anaconda3\\lib\\site-packages\\skimage\\_shared\\utils.py\u001b[0m in \u001b[0;36mcheck_shape_equality\u001b[1;34m(im1, im2)\u001b[0m\n\u001b[0;32m    155\u001b[0m     \u001b[1;34m\"\"\"Raise an error if the shape do not match.\"\"\"\u001b[0m\u001b[1;33m\u001b[0m\u001b[1;33m\u001b[0m\u001b[0m\n\u001b[0;32m    156\u001b[0m     \u001b[1;32mif\u001b[0m \u001b[1;32mnot\u001b[0m \u001b[0mim1\u001b[0m\u001b[1;33m.\u001b[0m\u001b[0mshape\u001b[0m \u001b[1;33m==\u001b[0m \u001b[0mim2\u001b[0m\u001b[1;33m.\u001b[0m\u001b[0mshape\u001b[0m\u001b[1;33m:\u001b[0m\u001b[1;33m\u001b[0m\u001b[1;33m\u001b[0m\u001b[0m\n\u001b[1;32m--> 157\u001b[1;33m         \u001b[1;32mraise\u001b[0m \u001b[0mValueError\u001b[0m\u001b[1;33m(\u001b[0m\u001b[1;34m'Input images must have the same dimensions.'\u001b[0m\u001b[1;33m)\u001b[0m\u001b[1;33m\u001b[0m\u001b[1;33m\u001b[0m\u001b[0m\n\u001b[0m\u001b[0;32m    158\u001b[0m     \u001b[1;32mreturn\u001b[0m\u001b[1;33m\u001b[0m\u001b[1;33m\u001b[0m\u001b[0m\n\u001b[0;32m    159\u001b[0m \u001b[1;33m\u001b[0m\u001b[0m\n",
      "\u001b[1;31mValueError\u001b[0m: Input images must have the same dimensions."
     ]
    }
   ],
   "source": [
    "%%time\n",
    "m = dict()\n",
    "for d in dirs:\n",
    "    m[d] = calc_metrics(os.path.join('pict/random_la', d), 'pict/random_la/sn')"
   ]
  },
  {
   "cell_type": "code",
   "execution_count": 35,
   "metadata": {},
   "outputs": [
    {
     "output_type": "stream",
     "name": "stdout",
     "text": [
      "deconv[0.001, 0.1, 0.001, 0.1]\n{'PSNR': 22.964748306501548, 'SSIM': 0.7424172859549522}\ndeconv[0.001, 0.1, 0.1, 0.001]\n{'PSNR': 22.964748306501548, 'SSIM': 0.7424172859549522}\ndeconv[0.1, 0.0001, 1, 1]\n{'PSNR': 22.94859650705285, 'SSIM': 0.7360348978859029}\ndeconv[0.1, 0.001, 0.001, 0.1]\n{'PSNR': 22.964748306501548, 'SSIM': 0.7424172859549522}\ndeconv[0.1, 0.001, 0.1, 0.001]\n{'PSNR': 22.964748306501548, 'SSIM': 0.7424172859549522}\n"
     ]
    }
   ],
   "source": [
    "for key in m:\n",
    "    print(key)\n",
    "    print(m[key])"
   ]
  },
  {
   "cell_type": "code",
   "execution_count": 27,
   "metadata": {},
   "outputs": [
    {
     "output_type": "stream",
     "name": "stdout",
     "text": [
      "img_0.png\n",
      "img_1.png\n",
      "img_10.png\n",
      "img_100.png\n",
      "img_101.png\n",
      "img_102.png\n",
      "img_103.png\n",
      "img_104.png\n",
      "img_105.png\n",
      "img_106.png\n",
      "img_107.png\n",
      "img_108.png\n",
      "img_109.png\n",
      "img_11.png\n",
      "img_110.png\n",
      "img_111.png\n",
      "img_112.png\n",
      "img_113.png\n",
      "img_114.png\n",
      "img_115.png\n",
      "img_116.png\n",
      "img_117.png\n",
      "img_118.png\n",
      "img_119.png\n",
      "img_12.png\n",
      "img_120.png\n",
      "img_121.png\n",
      "img_122.png\n",
      "img_123.png\n",
      "img_124.png\n",
      "img_125.png\n",
      "{'PSNR': 22.217719104460638, 'SSIM': 0.6563145783553344}\n"
     ]
    }
   ],
   "source": [
    "neural_metrics = calc_metrics('pict/random_la/predicted', 'pict/random_la/sn', 31)\n",
    "print(neural_metrics)"
   ]
  },
  {
   "cell_type": "code",
   "execution_count": 25,
   "metadata": {},
   "outputs": [
    {
     "output_type": "execute_result",
     "data": {
      "text/plain": [
       "16.801526179330935"
      ]
     },
     "metadata": {},
     "execution_count": 25
    }
   ],
   "source": [
    "a = prepare_img1( plt.imread('pict/random_la/predicted/img_0.png'))\n",
    "b = prepare_img1(plt.imread('pict/random_la/sn/img_0.png'))\n",
    "PSNR(a,b)"
   ]
  },
  {
   "cell_type": "code",
   "execution_count": null,
   "metadata": {},
   "outputs": [],
   "source": []
  }
 ],
 "metadata": {
  "kernelspec": {
   "display_name": "Python 3",
   "language": "python",
   "name": "python3"
  },
  "language_info": {
   "codemirror_mode": {
    "name": "ipython",
    "version": 3
   },
   "file_extension": ".py",
   "mimetype": "text/x-python",
   "name": "python",
   "nbconvert_exporter": "python",
   "pygments_lexer": "ipython3",
   "version": "3.6.10"
  },
  "pycharm": {
   "stem_cell": {
    "cell_type": "raw",
    "metadata": {
     "collapsed": false
    },
    "source": []
   }
  }
 },
 "nbformat": 4,
 "nbformat_minor": 2
}